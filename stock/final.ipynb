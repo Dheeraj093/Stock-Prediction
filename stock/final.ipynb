{
  "cells": [
    {
      "cell_type": "code",
      "execution_count": 37,
      "metadata": {
        "id": "WLUKgVmyZZQK"
      },
      "outputs": [],
      "source": [
        "import numpy as np\n",
        "import pandas as pd\n",
        "import matplotlib.pyplot as plt  \n",
        "import datetime as dt\n",
        "from datetime import date\n",
        "from sklearn.preprocessing import MinMaxScaler\n",
        "from keras.models import Sequential\n",
        "from keras.layers import Dense, LSTM, Dropout\n",
        "from keras.callbacks import EarlyStopping\n",
        "import pandas_datareader as web"
      ]
    },
    {
      "cell_type": "code",
      "execution_count": null,
      "metadata": {
        "id": "X2e98hbzZeLE"
      },
      "outputs": [],
      "source": []
    },
    {
      "cell_type": "code",
      "execution_count": 38,
      "metadata": {
        "colab": {
          "base_uri": "https://localhost:8080/",
          "height": 255
        },
        "id": "4H-qJMyvZhq6",
        "outputId": "501cad48-43c7-4a29-dba4-36ac32da7aa0"
      },
      "outputs": [
        {
          "name": "stdout",
          "output_type": "stream",
          "text": [
            "[*********************100%***********************]  1 of 1 completed\n"
          ]
        },
        {
          "data": {
            "text/html": [
              "<div>\n",
              "<style scoped>\n",
              "    .dataframe tbody tr th:only-of-type {\n",
              "        vertical-align: middle;\n",
              "    }\n",
              "\n",
              "    .dataframe tbody tr th {\n",
              "        vertical-align: top;\n",
              "    }\n",
              "\n",
              "    .dataframe thead th {\n",
              "        text-align: right;\n",
              "    }\n",
              "</style>\n",
              "<table border=\"1\" class=\"dataframe\">\n",
              "  <thead>\n",
              "    <tr style=\"text-align: right;\">\n",
              "      <th></th>\n",
              "      <th>Price</th>\n",
              "    </tr>\n",
              "    <tr>\n",
              "      <th>Date</th>\n",
              "      <th></th>\n",
              "    </tr>\n",
              "  </thead>\n",
              "  <tbody>\n",
              "    <tr>\n",
              "      <th>2018-01-02</th>\n",
              "      <td>25337.955078</td>\n",
              "    </tr>\n",
              "    <tr>\n",
              "      <th>2018-01-03</th>\n",
              "      <td>25318.304688</td>\n",
              "    </tr>\n",
              "    <tr>\n",
              "      <th>2018-01-04</th>\n",
              "      <td>25462.302734</td>\n",
              "    </tr>\n",
              "    <tr>\n",
              "      <th>2018-01-05</th>\n",
              "      <td>25601.552734</td>\n",
              "    </tr>\n",
              "    <tr>\n",
              "      <th>2018-01-08</th>\n",
              "      <td>25675.800781</td>\n",
              "    </tr>\n",
              "  </tbody>\n",
              "</table>\n",
              "</div>"
            ],
            "text/plain": [
              "                   Price\n",
              "Date                    \n",
              "2018-01-02  25337.955078\n",
              "2018-01-03  25318.304688\n",
              "2018-01-04  25462.302734\n",
              "2018-01-05  25601.552734\n",
              "2018-01-08  25675.800781"
            ]
          },
          "execution_count": 38,
          "metadata": {},
          "output_type": "execute_result"
        }
      ],
      "source": [
        "from pandas_datareader import data as pdr\n",
        "import yfinance as yf\n",
        "\n",
        "yf.pdr_override()\n",
        "\n",
        "ds = pdr.get_data_yahoo('^NSEBANK', start = dt.datetime(2018, 1, 2), end = date.today())\n",
        "ds = ds[['Adj Close']]\n",
        "ds.columns = ['Price']\n",
        "ds.head()"
      ]
    },
    {
      "cell_type": "code",
      "execution_count": 3,
      "metadata": {
        "id": "jQGR-gQ6ZmO4"
      },
      "outputs": [],
      "source": [
        "from sklearn.preprocessing import MinMaxScaler\n",
        "scaler=MinMaxScaler(feature_range=(0,1))\n",
        "df1=scaler.fit_transform(np.array(ds).reshape(-1,1))"
      ]
    },
    {
      "cell_type": "code",
      "execution_count": 39,
      "metadata": {
        "colab": {
          "base_uri": "https://localhost:8080/"
        },
        "id": "KZv_IWdVZnfV",
        "outputId": "d91ad986-0f75-4947-815d-2e9e10a6cc7b"
      },
      "outputs": [
        {
          "data": {
            "text/plain": [
              "(1328, 1)"
            ]
          },
          "execution_count": 39,
          "metadata": {},
          "output_type": "execute_result"
        }
      ],
      "source": [
        "df1.shape"
      ]
    },
    {
      "cell_type": "code",
      "execution_count": 40,
      "metadata": {
        "colab": {
          "base_uri": "https://localhost:8080/"
        },
        "id": "__UKIz1YZpYL",
        "outputId": "11ca7698-b2d9-45e4-fdaf-e97b4c7840f4"
      },
      "outputs": [
        {
          "name": "stdout",
          "output_type": "stream",
          "text": [
            "[[0.3073799 ]\n",
            " [0.30666259]\n",
            " [0.31191906]\n",
            " ...\n",
            " [0.97698439]\n",
            " [0.9892716 ]\n",
            " [1.        ]]\n"
          ]
        }
      ],
      "source": [
        "print(df1)"
      ]
    },
    {
      "cell_type": "code",
      "execution_count": 41,
      "metadata": {
        "id": "WLjfU9MEZw7y"
      },
      "outputs": [],
      "source": [
        "training_size=int(len(df1)*0.75)\n",
        "test_size=len(df1)-training_size\n",
        "train_data,test_data=df1[0:training_size,:],df1[training_size:len(df1),:1]"
      ]
    },
    {
      "cell_type": "code",
      "execution_count": 42,
      "metadata": {
        "colab": {
          "base_uri": "https://localhost:8080/"
        },
        "id": "aTFsLECbZ5Hd",
        "outputId": "c209d6a6-5c30-4de9-e4c3-de9f7d3c1a51"
      },
      "outputs": [
        {
          "data": {
            "text/plain": [
              "(996, 332)"
            ]
          },
          "execution_count": 42,
          "metadata": {},
          "output_type": "execute_result"
        }
      ],
      "source": [
        "training_size,test_size"
      ]
    },
    {
      "cell_type": "code",
      "execution_count": 44,
      "metadata": {
        "id": "h1ZjN7BjZ5Z-"
      },
      "outputs": [],
      "source": [
        "import numpy\n",
        "def create_dataset(dataset, time_step=1):\n",
        "\tdataX, dataY = [], []\n",
        "\tfor i in range(len(dataset)-time_step-1):\n",
        "\t\ta = dataset[i:(i+time_step), 0]   ###i=0, 0,1,2,3-----99   100 \n",
        "\t\tdataX.append(a)\n",
        "\t\tdataY.append(dataset[i + time_step, 0])\n",
        "\treturn numpy.array(dataX), numpy.array(dataY)"
      ]
    },
    {
      "cell_type": "code",
      "execution_count": 46,
      "metadata": {
        "id": "GkDGBwfsZ8Up"
      },
      "outputs": [],
      "source": [
        "time_step = 10\n",
        "X_train, y_train = create_dataset(train_data, time_step)\n",
        "X_test, ytest = create_dataset(test_data, time_step)"
      ]
    },
    {
      "cell_type": "code",
      "execution_count": 47,
      "metadata": {
        "colab": {
          "base_uri": "https://localhost:8080/"
        },
        "id": "YWsoIdW9aBnE",
        "outputId": "368feb9a-6bd3-4292-e633-0c9fff98f016"
      },
      "outputs": [
        {
          "name": "stdout",
          "output_type": "stream",
          "text": [
            "(985, 10)\n",
            "(985,)\n"
          ]
        },
        {
          "data": {
            "text/plain": [
              "(None, None)"
            ]
          },
          "execution_count": 47,
          "metadata": {},
          "output_type": "execute_result"
        }
      ],
      "source": [
        "print(X_train.shape), print(y_train.shape)"
      ]
    },
    {
      "cell_type": "code",
      "execution_count": 48,
      "metadata": {
        "colab": {
          "base_uri": "https://localhost:8080/"
        },
        "id": "PYxJFSADaFVo",
        "outputId": "34d7aee6-9c21-41c4-dfd5-f8ae72108872"
      },
      "outputs": [
        {
          "name": "stdout",
          "output_type": "stream",
          "text": [
            "(321, 10)\n",
            "(321,)\n"
          ]
        },
        {
          "data": {
            "text/plain": [
              "(None, None)"
            ]
          },
          "execution_count": 48,
          "metadata": {},
          "output_type": "execute_result"
        }
      ],
      "source": [
        "print(X_test.shape), print(ytest.shape)"
      ]
    },
    {
      "cell_type": "code",
      "execution_count": 49,
      "metadata": {
        "colab": {
          "base_uri": "https://localhost:8080/"
        },
        "id": "otx8SXnfaJEJ",
        "outputId": "caa4ce0e-5595-450d-ca7d-94528c79ceba"
      },
      "outputs": [
        {
          "name": "stdout",
          "output_type": "stream",
          "text": [
            "(321, 10)\n",
            "(321,)\n"
          ]
        },
        {
          "data": {
            "text/plain": [
              "(None, None)"
            ]
          },
          "execution_count": 49,
          "metadata": {},
          "output_type": "execute_result"
        }
      ],
      "source": [
        "print(X_test.shape), print(ytest.shape)"
      ]
    },
    {
      "cell_type": "code",
      "execution_count": 50,
      "metadata": {
        "id": "TssDBu5VaJjd"
      },
      "outputs": [],
      "source": [
        "X_train =X_train.reshape(X_train.shape[0],X_train.shape[1] , 1)\n",
        "X_test = X_test.reshape(X_test.shape[0],X_test.shape[1] , 1)"
      ]
    },
    {
      "cell_type": "code",
      "execution_count": 51,
      "metadata": {
        "id": "FKkzTzQlaNr3"
      },
      "outputs": [],
      "source": [
        "model=Sequential()\n",
        "model.add(LSTM(50,return_sequences=True,input_shape=(X_train.shape[1],1)))\n",
        "model.add(Dropout(0.1))\n",
        "model.add(LSTM(50,return_sequences=True))\n",
        "model.add(Dropout(0.1))\n",
        "model.add(LSTM(50,return_sequences=True))\n",
        "model.add(Dropout(0.1))\n",
        "model.add(LSTM(50))\n",
        "model.add(Dropout(0.1))\n",
        "model.add(Dense(1))\n",
        "model.compile(loss='mean_squared_error',optimizer='adam')"
      ]
    },
    {
      "cell_type": "code",
      "execution_count": 52,
      "metadata": {
        "colab": {
          "base_uri": "https://localhost:8080/"
        },
        "id": "2ZskGDmKaQdU",
        "outputId": "f8fbbec2-1d15-492b-c753-9ea0f86def88"
      },
      "outputs": [
        {
          "data": {
            "text/plain": [
              "<bound method Model.summary of <keras.engine.sequential.Sequential object at 0x0000024B44BDAC80>>"
            ]
          },
          "execution_count": 52,
          "metadata": {},
          "output_type": "execute_result"
        }
      ],
      "source": [
        "model.summary"
      ]
    },
    {
      "cell_type": "code",
      "execution_count": 53,
      "metadata": {
        "colab": {
          "base_uri": "https://localhost:8080/"
        },
        "id": "75OjPLJqaRgY",
        "outputId": "984b9482-2da1-4c26-89ff-716b1ead2dd0"
      },
      "outputs": [
        {
          "name": "stdout",
          "output_type": "stream",
          "text": [
            "Model: \"sequential_1\"\n",
            "_________________________________________________________________\n",
            " Layer (type)                Output Shape              Param #   \n",
            "=================================================================\n",
            " lstm_4 (LSTM)               (None, 10, 50)            10400     \n",
            "                                                                 \n",
            " dropout_4 (Dropout)         (None, 10, 50)            0         \n",
            "                                                                 \n",
            " lstm_5 (LSTM)               (None, 10, 50)            20200     \n",
            "                                                                 \n",
            " dropout_5 (Dropout)         (None, 10, 50)            0         \n",
            "                                                                 \n",
            " lstm_6 (LSTM)               (None, 10, 50)            20200     \n",
            "                                                                 \n",
            " dropout_6 (Dropout)         (None, 10, 50)            0         \n",
            "                                                                 \n",
            " lstm_7 (LSTM)               (None, 50)                20200     \n",
            "                                                                 \n",
            " dropout_7 (Dropout)         (None, 50)                0         \n",
            "                                                                 \n",
            " dense_1 (Dense)             (None, 1)                 51        \n",
            "                                                                 \n",
            "=================================================================\n",
            "Total params: 71,051\n",
            "Trainable params: 71,051\n",
            "Non-trainable params: 0\n",
            "_________________________________________________________________\n"
          ]
        }
      ],
      "source": [
        "model.summary()"
      ]
    },
    {
      "cell_type": "code",
      "execution_count": 54,
      "metadata": {
        "colab": {
          "base_uri": "https://localhost:8080/"
        },
        "id": "qxtN7C8RaUfL",
        "outputId": "6404e96a-4eda-46c3-e899-12f64d9ee950"
      },
      "outputs": [
        {
          "name": "stdout",
          "output_type": "stream",
          "text": [
            "Epoch 1/25\n",
            "31/31 [==============================] - 8s 63ms/step - loss: 0.0486 - val_loss: 0.0137\n",
            "Epoch 2/25\n",
            "31/31 [==============================] - 1s 38ms/step - loss: 0.0066 - val_loss: 0.0022\n",
            "Epoch 3/25\n",
            "31/31 [==============================] - 1s 19ms/step - loss: 0.0034 - val_loss: 0.0026\n",
            "Epoch 4/25\n",
            "31/31 [==============================] - 1s 29ms/step - loss: 0.0036 - val_loss: 0.0019\n",
            "Epoch 5/25\n",
            "31/31 [==============================] - 1s 38ms/step - loss: 0.0037 - val_loss: 0.0031\n",
            "Epoch 6/25\n",
            "31/31 [==============================] - 1s 19ms/step - loss: 0.0033 - val_loss: 0.0019\n",
            "Epoch 7/25\n",
            "31/31 [==============================] - 1s 25ms/step - loss: 0.0031 - val_loss: 0.0024\n",
            "Epoch 8/25\n",
            "31/31 [==============================] - 1s 19ms/step - loss: 0.0031 - val_loss: 0.0019\n",
            "Epoch 9/25\n",
            "31/31 [==============================] - 1s 19ms/step - loss: 0.0030 - val_loss: 0.0019\n",
            "Epoch 10/25\n",
            "31/31 [==============================] - 1s 23ms/step - loss: 0.0033 - val_loss: 0.0019\n",
            "Epoch 11/25\n",
            "31/31 [==============================] - 1s 29ms/step - loss: 0.0031 - val_loss: 0.0020\n",
            "Epoch 12/25\n",
            "31/31 [==============================] - 1s 21ms/step - loss: 0.0029 - val_loss: 0.0026\n",
            "Epoch 13/25\n",
            "31/31 [==============================] - 1s 18ms/step - loss: 0.0029 - val_loss: 0.0020\n",
            "Epoch 14/25\n",
            "31/31 [==============================] - 1s 40ms/step - loss: 0.0027 - val_loss: 0.0023\n",
            "Epoch 15/25\n",
            "31/31 [==============================] - 1s 38ms/step - loss: 0.0028 - val_loss: 0.0021\n",
            "Epoch 16/25\n",
            "31/31 [==============================] - 1s 26ms/step - loss: 0.0028 - val_loss: 0.0022\n",
            "Epoch 17/25\n",
            "31/31 [==============================] - 1s 40ms/step - loss: 0.0030 - val_loss: 0.0018\n",
            "Epoch 18/25\n",
            "31/31 [==============================] - 1s 18ms/step - loss: 0.0029 - val_loss: 0.0032\n",
            "Epoch 19/25\n",
            "31/31 [==============================] - 1s 40ms/step - loss: 0.0033 - val_loss: 0.0030\n",
            "Epoch 20/25\n",
            "31/31 [==============================] - 1s 39ms/step - loss: 0.0031 - val_loss: 0.0025\n",
            "Epoch 21/25\n",
            "31/31 [==============================] - 1s 18ms/step - loss: 0.0029 - val_loss: 0.0017\n",
            "Epoch 22/25\n",
            "31/31 [==============================] - 1s 28ms/step - loss: 0.0028 - val_loss: 0.0034\n",
            "Epoch 23/25\n",
            "31/31 [==============================] - 1s 37ms/step - loss: 0.0029 - val_loss: 0.0018\n",
            "Epoch 24/25\n",
            "31/31 [==============================] - 1s 21ms/step - loss: 0.0027 - val_loss: 0.0017\n",
            "Epoch 25/25\n",
            "31/31 [==============================] - 1s 38ms/step - loss: 0.0028 - val_loss: 0.0025\n"
          ]
        },
        {
          "data": {
            "text/plain": [
              "<keras.callbacks.History at 0x24b46f7e920>"
            ]
          },
          "execution_count": 54,
          "metadata": {},
          "output_type": "execute_result"
        }
      ],
      "source": [
        "model.fit(X_train,y_train,validation_data=(X_test,ytest),epochs=25,batch_size=32,verbose=1)"
      ]
    },
    {
      "cell_type": "code",
      "execution_count": 55,
      "metadata": {
        "colab": {
          "base_uri": "https://localhost:8080/"
        },
        "id": "IbS5R-6MbDR5",
        "outputId": "0102fe9d-6c78-4dd8-bade-09c0ba2d65c1"
      },
      "outputs": [
        {
          "name": "stdout",
          "output_type": "stream",
          "text": [
            "31/31 [==============================] - 2s 7ms/step\n",
            "11/11 [==============================] - 0s 9ms/step\n"
          ]
        }
      ],
      "source": [
        "train_predict=model.predict(X_train)\n",
        "test_predict=model.predict(X_test)"
      ]
    },
    {
      "cell_type": "code",
      "execution_count": 56,
      "metadata": {
        "id": "3MIvOEw0bDkp"
      },
      "outputs": [],
      "source": [
        "train_predict=scaler.inverse_transform(train_predict)\n",
        "test_predict=scaler.inverse_transform(test_predict)"
      ]
    },
    {
      "cell_type": "code",
      "execution_count": 57,
      "metadata": {
        "colab": {
          "base_uri": "https://localhost:8080/"
        },
        "id": "sFOSf8XzbHZ2",
        "outputId": "ada97768-67d4-4e3a-a941-aacfb64d708e"
      },
      "outputs": [
        {
          "data": {
            "text/plain": [
              "29440.259474742757"
            ]
          },
          "execution_count": 57,
          "metadata": {},
          "output_type": "execute_result"
        }
      ],
      "source": [
        "import math\n",
        "from sklearn.metrics import mean_squared_error\n",
        "math.sqrt(mean_squared_error(y_train,train_predict))"
      ]
    },
    {
      "cell_type": "code",
      "execution_count": 58,
      "metadata": {
        "colab": {
          "base_uri": "https://localhost:8080/"
        },
        "id": "ciAh7HfibJe1",
        "outputId": "986723c0-231d-4590-8d11-27fad7bdaa82"
      },
      "outputs": [
        {
          "data": {
            "text/plain": [
              "38425.27371413321"
            ]
          },
          "execution_count": 58,
          "metadata": {},
          "output_type": "execute_result"
        }
      ],
      "source": [
        "math.sqrt(mean_squared_error(ytest,test_predict))"
      ]
    },
    {
      "cell_type": "code",
      "execution_count": 60,
      "metadata": {
        "colab": {
          "base_uri": "https://localhost:8080/",
          "height": 430
        },
        "id": "02JXrez_bNVg",
        "outputId": "c7dd1db2-7989-452a-de4e-af646a4b675a"
      },
      "outputs": [
        {
          "data": {
            "image/png": "[encoded data removed]",
            "text/plain": [
              "<Figure size 640x480 with 1 Axes>"
            ]
          },
          "metadata": {},
          "output_type": "display_data"
        }
      ],
      "source": [
        "look_back=10\n",
        "trainPredictPlot = numpy.empty_like(df1)\n",
        "trainPredictPlot[:, :] = np.nan\n",
        "trainPredictPlot[look_back:len(train_predict)+look_back, :] = train_predict\n",
        "# shift test predictions for plotting\n",
        "testPredictPlot = numpy.empty_like(df1)\n",
        "testPredictPlot[:, :] = numpy.nan\n",
        "testPredictPlot[len(train_predict)+(look_back*2)+1:len(df1)-1, :] = test_predict\n",
        "# plot baseline and predictions\n",
        "plt.plot(scaler.inverse_transform(df1))\n",
        "plt.plot(trainPredictPlot)\n",
        "plt.plot(testPredictPlot)\n",
        "plt.show()"
      ]
    },
    {
      "cell_type": "code",
      "execution_count": 61,
      "metadata": {
        "colab": {
          "base_uri": "https://localhost:8080/"
        },
        "id": "C9RLM9pfbSFg",
        "outputId": "8fe3ec96-0291-421f-8243-0c6d21a64b25"
      },
      "outputs": [
        {
          "data": {
            "text/plain": [
              "332"
            ]
          },
          "execution_count": 61,
          "metadata": {},
          "output_type": "execute_result"
        }
      ],
      "source": [
        "len(test_data)"
      ]
    },
    {
      "cell_type": "code",
      "execution_count": 62,
      "metadata": {
        "colab": {
          "base_uri": "https://localhost:8080/"
        },
        "id": "4NZucR_xbXMA",
        "outputId": "9221751b-add7-4676-b49a-4e922015d614"
      },
      "outputs": [
        {
          "data": {
            "text/plain": [
              "(1, 11)"
            ]
          },
          "execution_count": 62,
          "metadata": {},
          "output_type": "execute_result"
        }
      ],
      "source": [
        "x_input=test_data[len(test_data)-11:].reshape(1,-1)\n",
        "x_input.shape"
      ]
    },
    {
      "cell_type": "code",
      "execution_count": 63,
      "metadata": {
        "id": "fjBZ4_3rbXrS"
      },
      "outputs": [],
      "source": [
        "temp_input=list(x_input)\n",
        "temp_input=temp_input[0].tolist()"
      ]
    },
    {
      "cell_type": "code",
      "execution_count": 64,
      "metadata": {
        "colab": {
          "base_uri": "https://localhost:8080/"
        },
        "id": "GzVdlxzwXdVD",
        "outputId": "335fad4c-3213-4b9b-c472-8bdba06ff22e"
      },
      "outputs": [
        {
          "name": "stdout",
          "output_type": "stream",
          "text": [
            "0 day input [0.9850992  0.97761593 0.97957259 0.98749747 0.98442031 0.98695176\n",
            " 0.97685491 0.97698439 0.9892716  1.        ]\n",
            "0 day output [[0.9323066]]\n",
            "1 day input [0.97761593 0.97957259 0.98749747 0.98442031 0.98695176 0.97685491\n",
            " 0.97698439 0.9892716  1.         0.93230659]\n",
            "1 day output [[0.9318466]]\n",
            "2 day input [0.97957259 0.98749747 0.98442031 0.98695176 0.97685491 0.97698439\n",
            " 0.9892716  1.         0.93230659 0.93184662]\n",
            "2 day output [[0.93094444]]\n",
            "3 day input [0.98749747 0.98442031 0.98695176 0.97685491 0.97698439 0.9892716\n",
            " 1.         0.93230659 0.93184662 0.93094444]\n",
            "3 day output [[0.9285328]]\n",
            "4 day input [0.98442031 0.98695176 0.97685491 0.97698439 0.9892716  1.\n",
            " 0.93230659 0.93184662 0.93094444 0.92853278]\n",
            "4 day output [[0.92419213]]\n",
            "5 day input [0.98695176 0.97685491 0.97698439 0.9892716  1.         0.93230659\n",
            " 0.93184662 0.93094444 0.92853278 0.92419213]\n",
            "5 day output [[0.9190425]]\n",
            "6 day input [0.97685491 0.97698439 0.9892716  1.         0.93230659 0.93184662\n",
            " 0.93094444 0.92853278 0.92419213 0.91904253]\n",
            "6 day output [[0.91283923]]\n",
            "7 day input [0.97698439 0.9892716  1.         0.93230659 0.93184662 0.93094444\n",
            " 0.92853278 0.92419213 0.91904253 0.91283923]\n",
            "7 day output [[0.90682584]]\n",
            "8 day input [0.9892716  1.         0.93230659 0.93184662 0.93094444 0.92853278\n",
            " 0.92419213 0.91904253 0.91283923 0.90682584]\n",
            "8 day output [[0.90026945]]\n",
            "9 day input [1.         0.93230659 0.93184662 0.93094444 0.92853278 0.92419213\n",
            " 0.91904253 0.91283923 0.90682584 0.90026945]\n",
            "9 day output [[0.8923579]]\n"
          ]
        }
      ],
      "source": [
        "# demonstrate prediction for next 10 days\n",
        "from numpy import array\n",
        "\n",
        "lst_output=[]\n",
        "i=0\n",
        "x_input = np.array(df1.tolist())\n",
        "n_steps = 10\n",
        "while(i<10):\n",
        "    \n",
        "    if(len(temp_input)>10):\n",
        "        #print(temp_input)\n",
        "        x_input=np.array(temp_input[1:])\n",
        "        print(\"{} day input {}\".format(i,x_input))\n",
        "        x_input=x_input.reshape(1,-1)\n",
        "        x_input = x_input.reshape((1, n_steps, 1))\n",
        "        #print(x_input)\n",
        "        yhat = model.predict(x_input, verbose=0)\n",
        "        print(\"{} day output {}\".format(i,yhat))\n",
        "        temp_input.extend(yhat[0].tolist())\n",
        "        temp_input=temp_input[1:]\n",
        "        #print(temp_input)\n",
        "        lst_output.extend(yhat.tolist())\n",
        "        i=i+1\n",
        "    else:\n",
        "        x_input = x_input.reshape((1, n_steps,1))\n",
        "        yhat = model.predict(x_input, verbose=0)\n",
        "        print(yhat[0])\n",
        "        temp_input.extend(yhat[0].tolist())\n",
        "        print(len(temp_input))\n",
        "        lst_output.extend(yhat.tolist())\n",
        "        i=i+1\n",
        "    \n",
        "\n",
        "# print(lst_output)"
      ]
    },
    {
      "cell_type": "code",
      "execution_count": 66,
      "metadata": {
        "id": "rz6mUK4rXg7o"
      },
      "outputs": [],
      "source": [
        "day_new=np.arange(1,11)\n",
        "day_pred=np.arange(11,21)"
      ]
    },
    {
      "cell_type": "code",
      "execution_count": 67,
      "metadata": {
        "id": "O6tMAzeFXhgy"
      },
      "outputs": [],
      "source": [
        "import matplotlib.pyplot as plt"
      ]
    },
    {
      "cell_type": "code",
      "execution_count": 68,
      "metadata": {
        "colab": {
          "base_uri": "https://localhost:8080/"
        },
        "id": "IQVelj_aXk-U",
        "outputId": "24915df1-3cab-4536-ee27-403b6b49af81"
      },
      "outputs": [
        {
          "data": {
            "text/plain": [
              "1328"
            ]
          },
          "execution_count": 68,
          "metadata": {},
          "output_type": "execute_result"
        }
      ],
      "source": [
        "len(df1)"
      ]
    },
    {
      "cell_type": "code",
      "execution_count": 69,
      "metadata": {
        "id": "_j8S6X6oXn0J"
      },
      "outputs": [],
      "source": [
        "df3=df1.tolist()\n",
        "df3.extend(lst_output)"
      ]
    },
    {
      "cell_type": "code",
      "execution_count": 70,
      "metadata": {},
      "outputs": [
        {
          "data": {
            "text/plain": [
              "[[0.9323065876960754],\n",
              " [0.9318466186523438],\n",
              " [0.9309444427490234],\n",
              " [0.9285327792167664],\n",
              " [0.9241921305656433],\n",
              " [0.9190425276756287],\n",
              " [0.9128392338752747],\n",
              " [0.906825840473175],\n",
              " [0.9002694487571716],\n",
              " [0.8923578858375549]]"
            ]
          },
          "execution_count": 70,
          "metadata": {},
          "output_type": "execute_result"
        }
      ],
      "source": [
        "df3[-10:]"
      ]
    },
    {
      "cell_type": "code",
      "execution_count": 71,
      "metadata": {
        "colab": {
          "base_uri": "https://localhost:8080/",
          "height": 237
        },
        "id": "nzDYGqn6dl4c",
        "outputId": "c6768535-3386-4c77-a443-c6409e5ac10c"
      },
      "outputs": [
        {
          "data": {
            "text/html": [
              "<div>\n",
              "<style scoped>\n",
              "    .dataframe tbody tr th:only-of-type {\n",
              "        vertical-align: middle;\n",
              "    }\n",
              "\n",
              "    .dataframe tbody tr th {\n",
              "        vertical-align: top;\n",
              "    }\n",
              "\n",
              "    .dataframe thead th {\n",
              "        text-align: right;\n",
              "    }\n",
              "</style>\n",
              "<table border=\"1\" class=\"dataframe\">\n",
              "  <thead>\n",
              "    <tr style=\"text-align: right;\">\n",
              "      <th></th>\n",
              "      <th>Price</th>\n",
              "    </tr>\n",
              "    <tr>\n",
              "      <th>Date</th>\n",
              "      <th></th>\n",
              "    </tr>\n",
              "  </thead>\n",
              "  <tbody>\n",
              "    <tr>\n",
              "      <th>2023-05-23</th>\n",
              "      <td>43954.449219</td>\n",
              "    </tr>\n",
              "    <tr>\n",
              "      <th>2023-05-24</th>\n",
              "      <td>43677.851562</td>\n",
              "    </tr>\n",
              "    <tr>\n",
              "      <th>2023-05-25</th>\n",
              "      <td>43681.398438</td>\n",
              "    </tr>\n",
              "    <tr>\n",
              "      <th>2023-05-26</th>\n",
              "      <td>44018.000000</td>\n",
              "    </tr>\n",
              "    <tr>\n",
              "      <th>2023-05-29</th>\n",
              "      <td>44311.898438</td>\n",
              "    </tr>\n",
              "  </tbody>\n",
              "</table>\n",
              "</div>"
            ],
            "text/plain": [
              "                   Price\n",
              "Date                    \n",
              "2023-05-23  43954.449219\n",
              "2023-05-24  43677.851562\n",
              "2023-05-25  43681.398438\n",
              "2023-05-26  44018.000000\n",
              "2023-05-29  44311.898438"
            ]
          },
          "execution_count": 71,
          "metadata": {},
          "output_type": "execute_result"
        }
      ],
      "source": [
        "ds.tail()"
      ]
    },
    {
      "cell_type": "code",
      "execution_count": 72,
      "metadata": {
        "colab": {
          "base_uri": "https://localhost:8080/",
          "height": 447
        },
        "id": "6jmzv7CGXrHV",
        "outputId": "1ba9006a-e357-430f-def6-76ae258e04f1"
      },
      "outputs": [
        {
          "data": {
            "text/plain": [
              "[<matplotlib.lines.Line2D at 0x24b5200f5e0>]"
            ]
          },
          "execution_count": 72,
          "metadata": {},
          "output_type": "execute_result"
        },
        {
          "data": {
            "image/png": "[encoded data removed]",
            "text/plain": [
              "<Figure size 640x480 with 1 Axes>"
            ]
          },
          "metadata": {},
          "output_type": "display_data"
        }
      ],
      "source": [
        "plt.plot(day_new,scaler.inverse_transform(df1[len(df1)-10:])) \n",
        "plt.plot(day_pred,scaler.inverse_transform(lst_output))"
      ]
    },
    {
      "cell_type": "code",
      "execution_count": 73,
      "metadata": {
        "colab": {
          "base_uri": "https://localhost:8080/",
          "height": 447
        },
        "id": "r1kG0i6FXuLn",
        "outputId": "c415b15a-f90b-4b69-bd8e-9eb83450a25e"
      },
      "outputs": [
        {
          "data": {
            "text/plain": [
              "[<matplotlib.lines.Line2D at 0x24b52064520>]"
            ]
          },
          "execution_count": 73,
          "metadata": {},
          "output_type": "execute_result"
        },
        {
          "data": {
            "image/png": "[encoded data removed]",
            "text/plain": [
              "<Figure size 640x480 with 1 Axes>"
            ]
          },
          "metadata": {},
          "output_type": "display_data"
        }
      ],
      "source": [
        "df3=df1.tolist()\n",
        "df3.extend(lst_output)\n",
        "plt.plot(df3[1300:])"
      ]
    },
    {
      "cell_type": "code",
      "execution_count": 74,
      "metadata": {
        "id": "O1NL01Y4Xy6O"
      },
      "outputs": [],
      "source": [
        "df3=scaler.inverse_transform(df3).tolist()"
      ]
    },
    {
      "cell_type": "code",
      "execution_count": 75,
      "metadata": {
        "colab": {
          "base_uri": "https://localhost:8080/",
          "height": 447
        },
        "id": "I15ymIJMX16Q",
        "outputId": "f44a8176-fafc-4eb6-a7ec-9d50d003b4ca"
      },
      "outputs": [
        {
          "data": {
            "text/plain": [
              "[<matplotlib.lines.Line2D at 0x24b5209fa30>]"
            ]
          },
          "execution_count": 75,
          "metadata": {},
          "output_type": "execute_result"
        },
        {
          "data": {
            "image/png": "[encoded data removed]",
            "text/plain": [
              "<Figure size 640x480 with 1 Axes>"
            ]
          },
          "metadata": {},
          "output_type": "display_data"
        }
      ],
      "source": [
        "plt.plot(df3)"
      ]
    }
  ],
  "metadata": {
    "colab": {
      "provenance": []
    },
    "kernelspec": {
      "display_name": "Python 3",
      "name": "python3"
    },
    "language_info": {
      "codemirror_mode": {
        "name": "ipython",
        "version": 3
      },
      "file_extension": ".py",
      "mimetype": "text/x-python",
      "name": "python",
      "nbconvert_exporter": "python",
      "pygments_lexer": "ipython3",
      "version": "3.10.6"
    }
  },
  "nbformat": 4,
  "nbformat_minor": 0
}
